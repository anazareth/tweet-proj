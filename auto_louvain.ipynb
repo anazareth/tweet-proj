{
 "cells": [
  {
   "cell_type": "code",
   "execution_count": 33,
   "metadata": {},
   "outputs": [
    {
     "data": {
      "text/plain": [
       "networkx.classes.graph.Graph"
      ]
     },
     "execution_count": 33,
     "metadata": {},
     "output_type": "execute_result"
    }
   ],
   "source": [
    "import community as community_louvain\n",
    "import matplotlib.cm as cm\n",
    "import matplotlib.pyplot as plt\n",
    "import networkx as nx\n",
    "import pandas as pd\n",
    "\n",
    "G = nx.karate_club_graph()\n",
    "type(G)"
   ]
  },
  {
   "cell_type": "code",
   "execution_count": 74,
   "metadata": {},
   "outputs": [],
   "source": [
    "df = pd.read_csv(r'data\\kw_ana\\JustinTrudeau_adjmat_all.csv', delimiter=';', index_col=0)\n",
    "\n",
    "top100_list = df.columns[1:]\n",
    "\n",
    "ntwrk = nx.Graph()  # create graph object\n",
    "ntwrk.add_nodes_from(top100_list)  # add nodes from index of adjacency matrix\n",
    "\n",
    "# add weighted edges iteratively\n",
    "for i in range(len(top100_list)):\n",
    "    for j in range(i, len(top100_list)):  # recall matrix is upper triangular\n",
    "        if df.iloc[i,j] != 0:\n",
    "            ntwrk.add_edge(top100_list[i], top100_list[j], weight=df.iloc[i,j] )\n"
   ]
  },
  {
   "cell_type": "code",
   "execution_count": 85,
   "metadata": {},
   "outputs": [
    {
     "data": {
      "image/png": "[encoded data removed]",
      "text/plain": [
       "<Figure size 432x288 with 1 Axes>"
      ]
     },
     "metadata": {
      "needs_background": "light"
     },
     "output_type": "display_data"
    },
    {
     "name": "stdout",
     "output_type": "stream",
     "text": [
      "number of communities 4\n"
     ]
    }
   ],
   "source": [
    "N = 100  # number of iterations to detect communities\n",
    "iter_tracking = {1:0, 2:0, 3:0, 4:0, 5:0, 6:0, 7:0, 8:0}\n",
    "for i in range(N):\n",
    "    # compute the best partition\n",
    "    partition = community_louvain.best_partition(ntwrk)\n",
    "    num_partitions = len(set( val for val in partition.values()))\n",
    "    iter_tracking[num_partitions] += 1\n",
    "\n",
    "plt.bar(iter_tracking.keys(), iter_tracking.values())\n",
    "plt.show()\n",
    "\n",
    "print('number of communities', max(iter_tracking, key=iter_tracking.get))\n"
   ]
  },
  {
   "cell_type": "code",
   "execution_count": null,
   "metadata": {},
   "outputs": [],
   "source": [
    "# draw the graph\n",
    "pos = nx.spring_layout(ntwrk)\n",
    "# colour the nodes according to their partition\n",
    "cmap = cm.get_cmap('viridis', max(partition.values())+1)\n",
    "nx.draw_networkx_nodes(ntwrk, pos, partition.keys(), node_size=40,\n",
    "                       cmap=cmap, node_color=list(partition.values()))\n",
    "nx.draw_networkx_edges(ntwrk, pos, alpha=0.5)\n",
    "plt.show()"
   ]
  },
  {
   "cell_type": "code",
   "execution_count": 57,
   "metadata": {},
   "outputs": [
    {
     "data": {
      "text/plain": [
       "Index(['help', 'covid19', 'canada', 'support', 'country', 'canadians',\n",
       "       'across', 'work', 'people', 'together', 'safe', 'spoke', 'working',\n",
       "       'home', 'business', 'details', 'workers', 'call', 'health', 'live',\n",
       "       'watch', 'family', 'update', 'businesses', 'taking', 'emergency',\n",
       "       'world', 'thank', 'stay', 'response', 'everyone', 'thanks', 'making',\n",
       "       'food', 'benefit', 'canadian', 'continue', 'giving', 'friends', 'care',\n",
       "       'protect', 'click', 'tune', 'talked', 'focused', 'pandemic', 'spread',\n",
       "       'morning', 'countries', 'year', 'communities', 'situation', 'fight',\n",
       "       'families', 'steps', 'measures', 'thoughts', 'announcing', 'difficult',\n",
       "       'helping', 'meeting', 'economy', 'impacts', 'earlier', 'talk', 'jobs',\n",
       "       'important', 'week', 'phone', 'international', 'economic', 'strong',\n",
       "       'able', 'virus', 'announced', 'loved', 'times', 'president', 'keeping',\n",
       "       'prime_minister\\n', 'apply', 'good', 'ones', 'leaders', 'government',\n",
       "       'latest', 'hard', 'global', 'whether', 'info', 'month', 'lives',\n",
       "       'front', 'forward', 'lost', 'million', 'next', 'community', 'full',\n",
       "       'wage'],\n",
       "      dtype='object')"
      ]
     },
     "execution_count": 57,
     "metadata": {},
     "output_type": "execute_result"
    }
   ],
   "source": [
    "top100_list"
   ]
  }
 ],
 "metadata": {
  "kernelspec": {
   "display_name": "Python 3",
   "language": "python",
   "name": "python3"
  },
  "language_info": {
   "codemirror_mode": {
    "name": "ipython",
    "version": 3
   },
   "file_extension": ".py",
   "mimetype": "text/x-python",
   "name": "python",
   "nbconvert_exporter": "python",
   "pygments_lexer": "ipython3",
   "version": "3.7.4"
  }
 },
 "nbformat": 4,
 "nbformat_minor": 2
}
