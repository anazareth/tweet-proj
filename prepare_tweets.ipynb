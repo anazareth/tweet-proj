{
 "cells": [
  {
   "cell_type": "code",
   "execution_count": 1,
   "metadata": {},
   "outputs": [
    {
     "data": {
      "text/html": [
       "<div>\n",
       "<style scoped>\n",
       "    .dataframe tbody tr th:only-of-type {\n",
       "        vertical-align: middle;\n",
       "    }\n",
       "\n",
       "    .dataframe tbody tr th {\n",
       "        vertical-align: top;\n",
       "    }\n",
       "\n",
       "    .dataframe thead th {\n",
       "        text-align: right;\n",
       "    }\n",
       "</style>\n",
       "<table border=\"1\" class=\"dataframe\">\n",
       "  <thead>\n",
       "    <tr style=\"text-align: right;\">\n",
       "      <th></th>\n",
       "      <th>Tweets</th>\n",
       "      <th>Length</th>\n",
       "      <th>Date</th>\n",
       "      <th>Source</th>\n",
       "      <th>Favourites</th>\n",
       "      <th>RTs</th>\n",
       "    </tr>\n",
       "  </thead>\n",
       "  <tbody>\n",
       "    <tr>\n",
       "      <td>0</td>\n",
       "      <td>It’s been a difficult few weeks for our countr...</td>\n",
       "      <td>272</td>\n",
       "      <td>2020-05-01 01:18:28</td>\n",
       "      <td>Twitter for iPhone</td>\n",
       "      <td>6117</td>\n",
       "      <td>660</td>\n",
       "    </tr>\n",
       "    <tr>\n",
       "      <td>1</td>\n",
       "      <td>Les dernières semaines ont été difficiles, mai...</td>\n",
       "      <td>277</td>\n",
       "      <td>2020-05-01 01:18:21</td>\n",
       "      <td>Twitter for iPhone</td>\n",
       "      <td>341</td>\n",
       "      <td>49</td>\n",
       "    </tr>\n",
       "    <tr>\n",
       "      <td>2</td>\n",
       "      <td>This morning, I spoke with @NATO Secretary Gen...</td>\n",
       "      <td>207</td>\n",
       "      <td>2020-04-30 23:45:29</td>\n",
       "      <td>Twitter for iPhone</td>\n",
       "      <td>1041</td>\n",
       "      <td>137</td>\n",
       "    </tr>\n",
       "    <tr>\n",
       "      <td>3</td>\n",
       "      <td>Ce matin, j’ai parlé avec le secrétaire généra...</td>\n",
       "      <td>224</td>\n",
       "      <td>2020-04-30 23:45:05</td>\n",
       "      <td>Twitter for iPhone</td>\n",
       "      <td>273</td>\n",
       "      <td>33</td>\n",
       "    </tr>\n",
       "    <tr>\n",
       "      <td>4</td>\n",
       "      <td>RT @CanadianForces: It is with heavy hearts th...</td>\n",
       "      <td>140</td>\n",
       "      <td>2020-04-30 23:27:44</td>\n",
       "      <td>Twitter for iPhone</td>\n",
       "      <td>0</td>\n",
       "      <td>1543</td>\n",
       "    </tr>\n",
       "  </tbody>\n",
       "</table>\n",
       "</div>"
      ],
      "text/plain": [
       "                                              Tweets  Length  \\\n",
       "0  It’s been a difficult few weeks for our countr...     272   \n",
       "1  Les dernières semaines ont été difficiles, mai...     277   \n",
       "2  This morning, I spoke with @NATO Secretary Gen...     207   \n",
       "3  Ce matin, j’ai parlé avec le secrétaire généra...     224   \n",
       "4  RT @CanadianForces: It is with heavy hearts th...     140   \n",
       "\n",
       "                  Date              Source  Favourites   RTs  \n",
       "0  2020-05-01 01:18:28  Twitter for iPhone        6117   660  \n",
       "1  2020-05-01 01:18:21  Twitter for iPhone         341    49  \n",
       "2  2020-04-30 23:45:29  Twitter for iPhone        1041   137  \n",
       "3  2020-04-30 23:45:05  Twitter for iPhone         273    33  \n",
       "4  2020-04-30 23:27:44  Twitter for iPhone           0  1543  "
      ]
     },
     "execution_count": 1,
     "metadata": {},
     "output_type": "execute_result"
    }
   ],
   "source": [
    "import pandas as pd\n",
    "\n",
    "df = pd.read_csv('tweet_out//trudeau_raw.csv')  # read csv containinf output of twitter scraper\n",
    "df.head()"
   ]
  },
  {
   "cell_type": "code",
   "execution_count": 2,
   "metadata": {},
   "outputs": [
    {
     "data": {
      "text/plain": [
       "en    1134\n",
       "fr    1092\n",
       "nl       1\n",
       "ca       1\n",
       "Name: Language, dtype: int64"
      ]
     },
     "execution_count": 2,
     "metadata": {},
     "output_type": "execute_result"
    }
   ],
   "source": [
    "from langdetect import detect\n",
    "import numpy as np\n",
    "# use langdetect package to create column specifying language\n",
    "df['Language'] = np.array([detect(t) for t in df['Tweets']])\n",
    "df['Language'].value_counts()"
   ]
  },
  {
   "cell_type": "code",
   "execution_count": 4,
   "metadata": {},
   "outputs": [
    {
     "data": {
      "text/plain": [
       "en    1134\n",
       "Name: Language, dtype: int64"
      ]
     },
     "execution_count": 4,
     "metadata": {},
     "output_type": "execute_result"
    }
   ],
   "source": [
    "# only want english tweets (assume negligible error in language detection)\n",
    "df2 = df.loc[(df['Language'] == 'en')]  \n",
    "df2['Language'].value_counts()"
   ]
  },
  {
   "cell_type": "code",
   "execution_count": null,
   "metadata": {},
   "outputs": [],
   "source": []
  }
 ],
 "metadata": {
  "kernelspec": {
   "display_name": "Python 3",
   "language": "python",
   "name": "python3"
  },
  "language_info": {
   "codemirror_mode": {
    "name": "ipython",
    "version": 3
   },
   "file_extension": ".py",
   "mimetype": "text/x-python",
   "name": "python",
   "nbconvert_exporter": "python",
   "pygments_lexer": "ipython3",
   "version": "3.7.4"
  }
 },
 "nbformat": 4,
 "nbformat_minor": 2
}
